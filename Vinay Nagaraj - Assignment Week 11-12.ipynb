{
 "cells": [
  {
   "cell_type": "markdown",
   "metadata": {},
   "source": [
    "**Vinay Nagaraj - Week 11 & 12 Assignment**"
   ]
  },
  {
   "cell_type": "code",
   "execution_count": 1,
   "metadata": {},
   "outputs": [],
   "source": [
    "# Import necessary libraries\n",
    "import pandas as pd\n",
    "import sqlite3"
   ]
  },
  {
   "cell_type": "markdown",
   "metadata": {},
   "source": [
    "**Activity 11: Retrieving Data Correctly from Databases**"
   ]
  },
  {
   "cell_type": "code",
   "execution_count": 2,
   "metadata": {},
   "outputs": [],
   "source": [
    "# Connect to petsdb\n",
    "\n",
    "conn = sqlite3.connect(\"petsdb\")"
   ]
  },
  {
   "cell_type": "code",
   "execution_count": 3,
   "metadata": {},
   "outputs": [],
   "source": [
    "# Check if connection was successful\n",
    "\n",
    "def is_opened(conn):\n",
    "    try:\n",
    "        conn.execute(\"SELECT * FROM persons LIMIT 1\")\n",
    "        return True\n",
    "    except sqlite3.ProgrammingError as e:\n",
    "        print(\"Connection closed {}\".format(e))\n",
    "        return False"
   ]
  },
  {
   "cell_type": "code",
   "execution_count": 4,
   "metadata": {},
   "outputs": [
    {
     "name": "stdout",
     "output_type": "stream",
     "text": [
      "True\n"
     ]
    }
   ],
   "source": [
    "print(is_opened(conn))"
   ]
  },
  {
   "cell_type": "code",
   "execution_count": 5,
   "metadata": {},
   "outputs": [
    {
     "name": "stdout",
     "output_type": "stream",
     "text": [
      "We have 2 people at the age of 5\n",
      "We have 1 people at the age of 6\n",
      "We have 1 people at the age of 7\n",
      "We have 3 people at the age of 8\n",
      "We have 1 people at the age of 9\n",
      "We have 2 people at the age of 11\n",
      "We have 3 people at the age of 12\n",
      "We have 1 people at the age of 13\n",
      "We have 4 people at the age of 14\n",
      "We have 2 people at the age of 16\n",
      "We have 2 people at the age of 17\n",
      "We have 3 people at the age of 18\n",
      "We have 1 people at the age of 19\n",
      "We have 3 people at the age of 22\n",
      "We have 2 people at the age of 23\n",
      "We have 3 people at the age of 24\n",
      "We have 2 people at the age of 25\n",
      "We have 1 people at the age of 27\n",
      "We have 1 people at the age of 30\n",
      "We have 3 people at the age of 31\n",
      "We have 1 people at the age of 32\n",
      "We have 1 people at the age of 33\n",
      "We have 2 people at the age of 34\n",
      "We have 3 people at the age of 35\n",
      "We have 3 people at the age of 36\n",
      "We have 1 people at the age of 37\n",
      "We have 2 people at the age of 39\n",
      "We have 1 people at the age of 40\n",
      "We have 1 people at the age of 42\n",
      "We have 2 people at the age of 44\n",
      "We have 2 people at the age of 48\n",
      "We have 1 people at the age of 49\n",
      "We have 1 people at the age of 50\n",
      "We have 2 people at the age of 51\n",
      "We have 2 people at the age of 52\n",
      "We have 2 people at the age of 53\n",
      "We have 2 people at the age of 54\n",
      "We have 1 people at the age of 58\n",
      "We have 1 people at the age of 59\n",
      "We have 1 people at the age of 60\n",
      "We have 1 people at the age of 61\n",
      "We have 2 people at the age of 62\n",
      "We have 1 people at the age of 63\n",
      "We have 2 people at the age of 65\n",
      "We have 2 people at the age of 66\n",
      "We have 1 people at the age of 67\n",
      "We have 3 people at the age of 68\n",
      "We have 1 people at the age of 69\n",
      "We have 1 people at the age of 70\n",
      "We have 4 people at the age of 71\n",
      "We have 1 people at the age of 72\n",
      "We have 5 people at the age of 73\n",
      "We have 3 people at the age of 74\n"
     ]
    }
   ],
   "source": [
    "# Create cursor\n",
    "\n",
    "c = conn.cursor()\n",
    "\n",
    "# Find different age group in the persons table\n",
    "\n",
    "for ppl, age in c.execute(\"SELECT count(*), age FROM persons GROUP BY age\"):\n",
    "    print(\"We have {} people at the age of {}\".format(ppl, age))"
   ]
  },
  {
   "cell_type": "code",
   "execution_count": 6,
   "metadata": {},
   "outputs": [
    {
     "name": "stdout",
     "output_type": "stream",
     "text": [
      "73 is the age group which has the highest number of people 5\n"
     ]
    }
   ],
   "source": [
    "# Find age group which has the maximum number of people\n",
    "\n",
    "for ppl, age in c.execute(\"SELECT count(*), age FROM persons GROUP BY age ORDER BY count(*) DESC\"):\n",
    "    print(\"{} is the age group which has the highest number of people {}\".format(age, ppl))\n",
    "    break"
   ]
  },
  {
   "cell_type": "code",
   "execution_count": 7,
   "metadata": {},
   "outputs": [
    {
     "name": "stdout",
     "output_type": "stream",
     "text": [
      "(60,)\n"
     ]
    }
   ],
   "source": [
    "# Find the people who do not have a last name\n",
    "\n",
    "res = c.execute(\"SELECT count(*) FROM persons WHERE last_name IS null\")\n",
    "for row in res:\n",
    "    print(row)"
   ]
  },
  {
   "cell_type": "code",
   "execution_count": 8,
   "metadata": {},
   "outputs": [
    {
     "name": "stdout",
     "output_type": "stream",
     "text": [
      "43 People has more than one pets\n"
     ]
    }
   ],
   "source": [
    "# Find out how many people has more than 1 pet.\n",
    "\n",
    "res = c.execute(\"SELECT count(*) FROM (SELECT count(owner_id) FROM pets GROUP BY owner_id HAVING count(owner_id) >1)\")\n",
    "for row in res:\n",
    "    print(\"{} People has more than one pets\".format(row[0]))"
   ]
  },
  {
   "cell_type": "code",
   "execution_count": 9,
   "metadata": {},
   "outputs": [
    {
     "name": "stdout",
     "output_type": "stream",
     "text": [
      "(36,)\n"
     ]
    }
   ],
   "source": [
    "# Find out how many pets have received treatment\n",
    "\n",
    "res = c.execute(\"SELECT count(*) FROM pets WHERE treatment_done=1\")\n",
    "for row in res:\n",
    "    print(row)"
   ]
  },
  {
   "cell_type": "code",
   "execution_count": 10,
   "metadata": {},
   "outputs": [
    {
     "name": "stdout",
     "output_type": "stream",
     "text": [
      "(16,)\n"
     ]
    }
   ],
   "source": [
    "# Find out how many pets have received treatment and the type of pet is known\n",
    "\n",
    "res = c.execute(\"SELECT count(*) FROM pets WHERE treatment_done=1 AND pet_type IS NOT null\")\n",
    "for row in res:\n",
    "    print(row)"
   ]
  },
  {
   "cell_type": "code",
   "execution_count": 11,
   "metadata": {},
   "outputs": [
    {
     "name": "stdout",
     "output_type": "stream",
     "text": [
      "(49,)\n"
     ]
    }
   ],
   "source": [
    "# Find out how many pets are from the city called east port.\n",
    "\n",
    "res = c.execute(\"SELECT count(*) FROM pets JOIN persons ON pets.owner_id = persons.id WHERE persons.city='east port'\")\n",
    "for row in res:\n",
    "    print(row)"
   ]
  },
  {
   "cell_type": "code",
   "execution_count": 12,
   "metadata": {},
   "outputs": [
    {
     "name": "stdout",
     "output_type": "stream",
     "text": [
      "(11,)\n"
     ]
    }
   ],
   "source": [
    "# Find out how many pets are from the city called east port and who received a treatment\n",
    "\n",
    "res = c.execute(\"SELECT count(*) FROM pets JOIN persons ON pets.owner_id = persons.id WHERE persons.city='east port' AND pets.treatment_done=1\")\n",
    "for row in res:\n",
    "    print(row)"
   ]
  },
  {
   "cell_type": "code",
   "execution_count": null,
   "metadata": {},
   "outputs": [],
   "source": []
  }
 ],
 "metadata": {
  "kernelspec": {
   "display_name": "Python 3",
   "language": "python",
   "name": "python3"
  },
  "language_info": {
   "codemirror_mode": {
    "name": "ipython",
    "version": 3
   },
   "file_extension": ".py",
   "mimetype": "text/x-python",
   "name": "python",
   "nbconvert_exporter": "python",
   "pygments_lexer": "ipython3",
   "version": "3.7.6"
  }
 },
 "nbformat": 4,
 "nbformat_minor": 4
}
